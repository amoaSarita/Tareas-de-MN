{
 "cells": [
  {
   "cell_type": "markdown",
   "metadata": {
    "collapsed": false
   },
   "source": [
    "## Sara 2. Intento 1"
   ]
  },
  {
   "cell_type": "markdown",
   "metadata": {
    "collapsed": false
   },
   "source": [
    "## Ecuación diferencial con solución exacta."
   ]
  },
  {
   "cell_type": "markdown",
   "metadata": {
    "collapsed": false
   },
   "source": [
    "Queremos estudiar $$ y' = f(t, y) \\quad \\textrm{con} \\quad y(0)=y_0 $$"
   ]
  },
  {
   "cell_type": "markdown",
   "metadata": {
    "collapsed": false
   },
   "source": [
    "La ecuación (lineal) que propongo es\n",
    "\\begin{equation}\n",
    "    y' = 1 - t + 4y \\quad \\textrm{con} \\quad y(0) = 1\n",
    "\\end{equation}\n",
    "La solución que satisface esta condición inicial es\n",
    "\\begin{equation}\n",
    "    y(t) = \\frac{19}{16} e^{4t} + \\frac{t}{4} - \\frac{3}{16}\n",
    "\\end{equation}"
   ]
  },
  {
   "cell_type": "markdown",
   "metadata": {
    "collapsed": false
   },
   "source": [
    "### Gráfica de mi solución exacta."
   ]
  },
  {
   "cell_type": "code",
   "execution_count": 1,
   "metadata": {
    "collapsed": false
   },
   "outputs": [
   ],
   "source": [
    "using PyPlot"
   ]
  },
  {
   "cell_type": "code",
   "execution_count": 2,
   "metadata": {
    "collapsed": false
   },
   "outputs": [
    {
     "data": {
      "text/plain": [
       "65-element Array{Float64,1}:\n",
       "  1.0\n",
       "  1.0804934199649583\n",
       "  1.1659262880168562\n",
       "  1.2566171711874146\n",
       "  1.3529051823166929\n",
       "  1.4551513051438831\n",
       "  1.563739804859114\n",
       "  1.679079729628033\n",
       "  1.8016065089564022\n",
       "  1.9317836551403547\n",
       "  2.070104574450764\n",
       "  2.2170944951289715\n",
       "  2.373312519727551\n",
       "  ⋮\n",
       " 32.620769048358866\n",
       " 34.72727449021649\n",
       " 36.9693859292741\n",
       " 39.35584920094712\n",
       " 41.89597419857389\n",
       " 44.599671252026184\n",
       " 47.47748985253855\n",
       " 50.54065987507455\n",
       " 53.80113545930728\n",
       " 57.271641720679845\n",
       " 60.96572447407053\n",
       " 64.89780316435878"
      ]
     },
     "execution_count": 2,
     "metadata": {
     },
     "output_type": "execute_result"
    }
   ],
   "source": [
    "xs = 0:1/2^6:1\n",
    "ys = [(19/16)*exp(4t) + (t/4) - (3/16) for t in xs]"
   ]
  },
  {
   "cell_type": "code",
   "execution_count": 3,
   "metadata": {
    "collapsed": false
   },
   "outputs": [
    {
     "data": {
      "image/png": "[encoded data removed]",
      "text/plain": [
       "Figure(PyObject <Figure size 640x480 with 1 Axes>)"
      ]
     },
     "execution_count": 3,
     "metadata": {
     },
     "output_type": "execute_result"
    }
   ],
   "source": [
    "plot(xs, ys, \"r\", label = L\"y(t) = \\frac{19}{16} e^{4t} + \\frac{t}{4} - \\frac{3}{16}\")\n",
    "xlabel(L\"t\")\n",
    "ylabel(L\"y(t)\")\n",
    "grid(\"on\")\n",
    "legend();"
   ]
  },
  {
   "cell_type": "markdown",
   "metadata": {
    "collapsed": false
   },
   "source": [
    "## Método del Trapezoide (implentación)."
   ]
  },
  {
   "cell_type": "markdown",
   "metadata": {
    "collapsed": false
   },
   "source": [
    "Sabemos que la fórmula para encontrar la solución aproximada de nuestra ODE se escribe $$y_{n+1} = y_n + \\frac{1}{2}h[f(t_n, y_n) + f(t_{n+1}, y_{n+1})]$$"
   ]
  },
  {
   "cell_type": "markdown",
   "metadata": {
    "collapsed": false
   },
   "source": [
    "Notar que necesitamos despejar $y_{n+1}$ en cada paso de tiempo, **en nuestra ecuación particular que elegimos podemos despejar a mano**. Esto es porque tramposamente elegí una ecuación lineal. Si no fuera el caso tengo que implementar en cada paso de tiempo un programa para encontrar $y_{n+1}$, usando por ejemplo Método de Newton."
   ]
  },
  {
   "cell_type": "markdown",
   "metadata": {
    "collapsed": false
   },
   "source": [
    "Sustituyendo $f(t, y) = 1 - t + 4y$ en la fórmula anterior ,es decir haciendo $f(t_n, y_n) = 1 - t_n + 4y_n$ y también $f(t_{n+1}, y_{n+1}) = 1 - t_{n+1} + 4y_{n+1}$,  nos queda"
   ]
  },
  {
   "cell_type": "markdown",
   "metadata": {
    "collapsed": false
   },
   "source": [
    "$$y_{n+1}(1-2h) = y_n + \\frac{1}{2}h[2 + 4y_n - t_n - t_{n+1}]$$"
   ]
  },
  {
   "cell_type": "markdown",
   "metadata": {
    "collapsed": false
   },
   "source": [
    "Finalmente pasando el $1-2h$ del otro lado obtenemos la fórmula para calcular la solución aproximada por el método de Trapezoide **para esta ecuación diferencial** $$y_{n+1} = \\frac{y_n}{1-2h} + \\frac{1}{2}\\frac{h}{1-2h}[2 + 4y_n - t_n - t_{n+1}]$$"
   ]
  },
  {
   "cell_type": "markdown",
   "metadata": {
    "collapsed": false
   },
   "source": [
    "Que si definimos los parámetros $H_1 = \\frac{1}{1-2h}$ y $H_2 = \\frac{1}{2} \\frac{h}{1-2h}$ queda expresada"
   ]
  },
  {
   "cell_type": "markdown",
   "metadata": {
    "collapsed": false
   },
   "source": [
    "$$y_{n+1} = H_1y_n + H_2[2 + 4y_n - t_n - t_{n+1}]$$"
   ]
  },
  {
   "cell_type": "markdown",
   "metadata": {
    "collapsed": false
   },
   "source": [
    "Finalmente la implementamos, para calcular la solución en el intervalo $[0,1]$"
   ]
  },
  {
   "cell_type": "code",
   "execution_count": 4,
   "metadata": {
    "collapsed": false
   },
   "outputs": [
    {
     "data": {
      "text/plain": [
       "f (generic function with 1 method)"
      ]
     },
     "execution_count": 4,
     "metadata": {
     },
     "output_type": "execute_result"
    }
   ],
   "source": [
    "f(t,y) = 1 - t + 4y"
   ]
  },
  {
   "cell_type": "code",
   "execution_count": 5,
   "metadata": {
    "collapsed": false
   },
   "outputs": [
    {
     "data": {
      "text/plain": [
       "Trapezoide (generic function with 1 method)"
      ]
     },
     "execution_count": 5,
     "metadata": {
     },
     "output_type": "execute_result"
    }
   ],
   "source": [
    "function Trapezoide(f, t0, y0, N)\n",
    "    ts = Float64[]\n",
    "    ys = Float64[]\n",
    "    \n",
    "    h = 1/N\n",
    "    H1 = 1/(1-2h)\n",
    "    H2 = h/(2-4h)\n",
    "    \n",
    "    t_actual = t0\n",
    "    y_actual = y0\n",
    "    push!(ts, t_actual)\n",
    "    push!(ys, y_actual)\n",
    "    \n",
    "    \n",
    "    for j in 1:N\n",
    "        t_nueva = t_actual + h\n",
    "        y_nueva = H1*y_actual + H2*(2 + 4*y_actual - t_actual - t_nueva)\n",
    "        \n",
    "        push!(ts, t_nueva)\n",
    "        push!(ys, y_nueva)\n",
    "        \n",
    "        t_actual = t_nueva\n",
    "        y_actual = y_nueva        \n",
    "    end\n",
    "    return ts, ys\n",
    "end"
   ]
  },
  {
   "cell_type": "code",
   "execution_count": 6,
   "metadata": {
    "collapsed": false
   },
   "outputs": [
    {
     "data": {
      "text/plain": [
       "([0.0, 0.03125, 0.0625, 0.09375, 0.125, 0.15625, 0.1875, 0.21875, 0.25, 0.28125  …  0.71875, 0.75, 0.78125, 0.8125, 0.84375, 0.875, 0.90625, 0.9375, 0.96875, 1.0], [1.0, 1.1661458333333332, 1.3534027777777777, 1.5645856481481482, 1.8028845679012346, 2.071915010288066, 2.375774511659808, 2.7191069465477824, 3.1071753727541536, 3.545944589121374  …  21.12025869881713, 23.945147358659412, 27.145646173147334, 30.771836496233647, 34.880477195731466, 39.53589498849566, 44.81099348696175, 50.78839678522331, 57.56174552325309, 65.23716575968683])"
      ]
     },
     "execution_count": 6,
     "metadata": {
     },
     "output_type": "execute_result"
    }
   ],
   "source": [
    "Datos = Trapezoide(f, 0, 1, 32)"
   ]
  },
  {
   "cell_type": "code",
   "execution_count": 7,
   "metadata": {
    "collapsed": false
   },
   "outputs": [
    {
     "data": {
      "text/plain": [
       "2-element Array{Array{Float64,1},1}:\n",
       " [0.0, 0.03125, 0.0625, 0.09375, 0.125, 0.15625, 0.1875, 0.21875, 0.25, 0.28125  …  0.71875, 0.75, 0.78125, 0.8125, 0.84375, 0.875, 0.90625, 0.9375, 0.96875, 1.0]\n",
       " [1.0, 1.1661458333333332, 1.3534027777777777, 1.5645856481481482, 1.8028845679012346, 2.071915010288066, 2.375774511659808, 2.7191069465477824, 3.1071753727541536, 3.545944589121374  …  21.12025869881713, 23.945147358659412, 27.145646173147334, 30.771836496233647, 34.880477195731466, 39.53589498849566, 44.81099348696175, 50.78839678522331, 57.56174552325309, 65.23716575968683]"
      ]
     },
     "execution_count": 7,
     "metadata": {
     },
     "output_type": "execute_result"
    }
   ],
   "source": [
    "DATOS2 = collect(Datos)"
   ]
  },
  {
   "cell_type": "code",
   "execution_count": 9,
   "metadata": {
    "collapsed": false
   },
   "outputs": [
    {
     "data": {
      "text/plain": [
       "33-element Array{Float64,1}:\n",
       " 0.0\n",
       " 0.03125\n",
       " 0.0625\n",
       " 0.09375\n",
       " 0.125\n",
       " 0.15625\n",
       " 0.1875\n",
       " 0.21875\n",
       " 0.25\n",
       " 0.28125\n",
       " 0.3125\n",
       " 0.34375\n",
       " 0.375\n",
       " ⋮\n",
       " 0.65625\n",
       " 0.6875\n",
       " 0.71875\n",
       " 0.75\n",
       " 0.78125\n",
       " 0.8125\n",
       " 0.84375\n",
       " 0.875\n",
       " 0.90625\n",
       " 0.9375\n",
       " 0.96875\n",
       " 1.0"
      ]
     },
     "execution_count": 9,
     "metadata": {
     },
     "output_type": "execute_result"
    }
   ],
   "source": [
    "DATOS2[1]"
   ]
  },
  {
   "cell_type": "code",
   "execution_count": 8,
   "metadata": {
    "collapsed": false
   },
   "outputs": [
    {
     "data": {
      "text/plain": [
       "33-element Array{Float64,1}:\n",
       " 0.0\n",
       " 0.03125\n",
       " 0.0625\n",
       " 0.09375\n",
       " 0.125\n",
       " 0.15625\n",
       " 0.1875\n",
       " 0.21875\n",
       " 0.25\n",
       " 0.28125\n",
       " 0.3125\n",
       " 0.34375\n",
       " 0.375\n",
       " ⋮\n",
       " 0.65625\n",
       " 0.6875\n",
       " 0.71875\n",
       " 0.75\n",
       " 0.78125\n",
       " 0.8125\n",
       " 0.84375\n",
       " 0.875\n",
       " 0.90625\n",
       " 0.9375\n",
       " 0.96875\n",
       " 1.0"
      ]
     },
     "execution_count": 8,
     "metadata": {
     },
     "output_type": "execute_result"
    }
   ],
   "source": [
    "Datos_en_X = Datos[1]"
   ]
  },
  {
   "cell_type": "code",
   "execution_count": 0,
   "metadata": {
    "collapsed": false
   },
   "outputs": [
   ],
   "source": [
   ]
  }
 ],
 "metadata": {
  "kernelspec": {
   "display_name": "Julia 1.5",
   "env": {
    "JULIA_DEPOT_PATH": "/home/user/.julia/:/ext/julia/depot/",
    "JULIA_PROJECT": "/home/user/.julia/environment/v1.5"
   },
   "language": "julia",
   "metadata": {
    "cocalc": {
     "description": "The Julia Programming Language",
     "priority": 10,
     "url": "https://julialang.org/"
    }
   },
   "name": "julia-1.5"
  },
  "language_info": {
   "file_extension": ".jl",
   "mimetype": "application/julia",
   "name": "julia",
   "version": "1.5.2"
  }
 },
 "nbformat": 4,
 "nbformat_minor": 4
}