{
 "cells": [
  {
   "cell_type": "markdown",
   "metadata": {
    "collapsed": false
   },
   "source": [
    "## Tarea 2"
   ]
  },
  {
   "cell_type": "markdown",
   "metadata": {
    "collapsed": false
   },
   "source": [
    "## Ecuación diferencial con solución exacta."
   ]
  },
  {
   "cell_type": "markdown",
   "metadata": {
    "collapsed": false
   },
   "source": [
    "Queremos estudiar $$ y' = f(t, y) \\quad \\textrm{con} \\quad y(0)=y_0 $$"
   ]
  },
  {
   "cell_type": "markdown",
   "metadata": {
    "collapsed": false
   },
   "source": [
    "La ecuación (lineal) que propongo es\n",
    "\\begin{equation}\n",
    "    y' = 1 - t + 4y \\quad \\textrm{con} \\quad y(0) = 1\n",
    "\\end{equation}\n",
    "La solución que satisface esta condición inicial es\n",
    "\\begin{equation}\n",
    "    y(t) = \\frac{19}{16} e^{4t} + \\frac{t}{4} - \\frac{3}{16}\n",
    "\\end{equation}"
   ]
  },
  {
   "cell_type": "markdown",
   "metadata": {
    "collapsed": false
   },
   "source": [
    "### Gráfica de mi solución exacta."
   ]
  },
  {
   "cell_type": "markdown",
   "metadata": {
    "collapsed": false
   },
   "source": [
    "Voy a estudiar la ecuación en el intervalo $[0,2]$"
   ]
  },
  {
   "cell_type": "code",
   "execution_count": 1,
   "metadata": {
    "collapsed": false
   },
   "outputs": [
   ],
   "source": [
    "using PyPlot"
   ]
  },
  {
   "cell_type": "code",
   "execution_count": 2,
   "metadata": {
    "collapsed": false
   },
   "outputs": [
   ],
   "source": [
    "xs = 0:1/2^6:2\n",
    "ys = [(19/16)*exp(4t) + (t/4) - (3/16) for t in xs];"
   ]
  },
  {
   "cell_type": "code",
   "execution_count": 3,
   "metadata": {
    "collapsed": false
   },
   "outputs": [
    {
     "data": {
      "image/png": "[encoded data removed]",
      "text/plain": [
       "Figure(PyObject <Figure size 640x480 with 1 Axes>)"
      ]
     },
     "execution_count": 3,
     "metadata": {
     },
     "output_type": "execute_result"
    }
   ],
   "source": [
    "plot(xs, ys, \"r\", label = L\"y(t) = \\frac{19}{16} e^{4t} + \\frac{t}{4} - \\frac{3}{16}\")\n",
    "xlabel(L\"t\")\n",
    "ylabel(L\"y(t)\")\n",
    "grid(\"on\")\n",
    "legend();"
   ]
  },
  {
   "cell_type": "markdown",
   "metadata": {
    "collapsed": false
   },
   "source": [
    "## Método del Trapezoide (implementación)."
   ]
  },
  {
   "cell_type": "markdown",
   "metadata": {
    "collapsed": false
   },
   "source": [
    "Sabemos que la fórmula para encontrar la solución aproximada de nuestra ODE se escribe $$y_{n+1} = y_n + \\frac{1}{2}h[f(t_n, y_n) + f(t_{n+1}, y_{n+1})]$$"
   ]
  },
  {
   "cell_type": "markdown",
   "metadata": {
    "collapsed": false
   },
   "source": [
    "Notar que necesitamos despejar $y_{n+1}$ en cada paso de tiempo, **en nuestra ecuación particular que elegimos podemos despejar a mano**. Esto es porque tramposamente elegí una ecuación lineal. Si no fuera el caso tengo que implementar en cada paso de tiempo un programa para encontrar $y_{n+1}$, usando por ejemplo Método de Newton."
   ]
  },
  {
   "cell_type": "markdown",
   "metadata": {
    "collapsed": false
   },
   "source": [
    "Sustituyendo $f(t, y) = 1 - t + 4y$ en la fórmula anterior ,es decir haciendo $f(t_n, y_n) = 1 - t_n + 4y_n$ y también $f(t_{n+1}, y_{n+1}) = 1 - t_{n+1} + 4y_{n+1}$,  nos queda"
   ]
  },
  {
   "cell_type": "markdown",
   "metadata": {
    "collapsed": false
   },
   "source": [
    "$$y_{n+1}(1-2h) = y_n + \\frac{1}{2}h[2 + 4y_n - t_n - t_{n+1}]$$"
   ]
  },
  {
   "cell_type": "markdown",
   "metadata": {
    "collapsed": false
   },
   "source": [
    "Finalmente pasando el $1-2h$ del otro lado obtenemos la fórmula para calcular la solución aproximada por el método de Trapezoide **para esta ecuación diferencial** $$y_{n+1} = \\frac{y_n}{1-2h} + \\frac{1}{2}\\frac{h}{1-2h}[2 + 4y_n - t_n - t_{n+1}]$$"
   ]
  },
  {
   "cell_type": "markdown",
   "metadata": {
    "collapsed": false
   },
   "source": [
    "Que si definimos los parámetros $H_1 = \\frac{1}{1-2h}$ y $H_2 = \\frac{1}{2} \\frac{h}{1-2h}$ queda expresada"
   ]
  },
  {
   "cell_type": "markdown",
   "metadata": {
    "collapsed": false
   },
   "source": [
    "$$y_{n+1} = H_1y_n + H_2[2 + 4y_n - t_n - t_{n+1}]$$"
   ]
  },
  {
   "cell_type": "markdown",
   "metadata": {
    "collapsed": false
   },
   "source": [
    "Finalmente la implementamos, para calcular la solución en el intervalo $[0,y_f]$, $y_f = y_{final}$"
   ]
  },
  {
   "cell_type": "code",
   "execution_count": 4,
   "metadata": {
    "collapsed": false
   },
   "outputs": [
    {
     "data": {
      "text/plain": [
       "f (generic function with 1 method)"
      ]
     },
     "execution_count": 4,
     "metadata": {
     },
     "output_type": "execute_result"
    }
   ],
   "source": [
    "f(t,y) = 1 - t + 4y"
   ]
  },
  {
   "cell_type": "code",
   "execution_count": 5,
   "metadata": {
    "collapsed": false
   },
   "outputs": [
    {
     "data": {
      "text/plain": [
       "Trapezoide (generic function with 1 method)"
      ]
     },
     "execution_count": 5,
     "metadata": {
     },
     "output_type": "execute_result"
    }
   ],
   "source": [
    "function Trapezoide(f, t0, tf, y0, N)   #Esta función encuentra la solución desde el punto t0 hasta el punto tf\n",
    "    ts = Float64[]\n",
    "    ys = Float64[]\n",
    "    \n",
    "    h = (tf - t0)/N\n",
    "    H1 = 1/(1-2h)\n",
    "    H2 = h/(2-4h)\n",
    "    \n",
    "    t_actual = t0\n",
    "    y_actual = y0\n",
    "    push!(ts, t_actual)\n",
    "    push!(ys, y_actual)\n",
    "    \n",
    "    \n",
    "    for j in 1:N\n",
    "        t_nueva = t_actual + h\n",
    "        y_nueva = H1*y_actual + H2*(2 + 4*y_actual - t_actual - t_nueva)\n",
    "        \n",
    "        push!(ts, t_nueva)\n",
    "        push!(ys, y_nueva)\n",
    "        \n",
    "        t_actual = t_nueva\n",
    "        y_actual = y_nueva        \n",
    "    end\n",
    "    return ts, ys\n",
    "end"
   ]
  },
  {
   "cell_type": "code",
   "execution_count": 6,
   "metadata": {
    "collapsed": false
   },
   "outputs": [
    {
     "data": {
      "text/plain": [
       "([0.0, 0.0625, 0.125, 0.1875, 0.25, 0.3125, 0.375, 0.4375, 0.5, 0.5625  …  1.4375, 1.5, 1.5625, 1.625, 1.6875, 1.75, 1.8125, 1.875, 1.9375, 2.0], [1.0, 1.3549107142857142, 1.8067602040816324, 2.38324526239067, 3.119976051645147, 4.062737066400903, 5.270394085372589, 6.818631681193328, 8.804758590105708, 11.353886044421625  …  384.72506211916664, 494.6130262960713, 635.893087380663, 817.5344159179953, 1051.068802608851, 1351.3228354970943, 1737.359270639121, 2233.687365821727, 2871.819023913649, 3692.2695486032626])"
      ]
     },
     "execution_count": 6,
     "metadata": {
     },
     "output_type": "execute_result"
    }
   ],
   "source": [
    "Datos = Trapezoide(f, 0, 2, 1, 32)"
   ]
  },
  {
   "cell_type": "code",
   "execution_count": 7,
   "metadata": {
    "collapsed": false
   },
   "outputs": [
   ],
   "source": [
    "Datos_en_X = Datos[1];"
   ]
  },
  {
   "cell_type": "code",
   "execution_count": 8,
   "metadata": {
    "collapsed": false
   },
   "outputs": [
   ],
   "source": [
    "Datos_en_Y = Datos[2];"
   ]
  },
  {
   "cell_type": "code",
   "execution_count": 13,
   "metadata": {
    "collapsed": false
   },
   "outputs": [
    {
     "data": {
      "text/plain": [
       "Euler (generic function with 1 method)"
      ]
     },
     "execution_count": 13,
     "metadata": {
     },
     "output_type": "execute_result"
    }
   ],
   "source": [
    "function Euler(f, t0, tf, y0, N)\n",
    "    h = (tf - t0)/N\n",
    "    ts = Float64[]\n",
    "    ys = Float64[]\n",
    "    \n",
    "    t_actual = t0\n",
    "    y_actual = y0\n",
    "    \n",
    "    push!(ts, t_actual)\n",
    "    push!(ys, y_actual)\n",
    "    \n",
    "    for j in 1:N\n",
    "        t_nueva = t_actual + h\n",
    "        y_nueva = y_actual + h*f(t_actual, y_actual)\n",
    "        push!(ts, t_nueva)\n",
    "        push!(ys, y_nueva)\n",
    "        t_actual = t_nueva\n",
    "        y_actual = y_nueva\n",
    "    end\n",
    "    ts, ys\n",
    "end"
   ]
  },
  {
   "cell_type": "code",
   "execution_count": 15,
   "metadata": {
    "collapsed": false
   },
   "outputs": [
    {
     "data": {
      "text/plain": [
       "([0.0, 0.0625, 0.125, 0.1875, 0.25, 0.3125, 0.375, 0.4375, 0.5, 0.5625  …  1.4375, 1.5, 1.5625, 1.625, 1.6875, 1.75, 1.8125, 1.875, 1.9375, 2.0], [1.0, 1.3125, 1.69921875, 2.1787109375, 2.774169921875, 3.51458740234375, 4.4362030029296875, 5.584316253662109, 7.015551567077637, 8.800689458847046  …  201.34219997289637, 251.65040621612047, 314.5317577701506, 393.1295409626882, 491.3728637033603, 614.1731108792003, 767.6695135990003, 959.5361107487504, 1199.365450935938, 1499.1482199199227])"
      ]
     },
     "execution_count": 15,
     "metadata": {
     },
     "output_type": "execute_result"
    }
   ],
   "source": [
    "Memoria = Euler(f, 0, 2, 1, 32)"
   ]
  },
  {
   "cell_type": "code",
   "execution_count": 16,
   "metadata": {
    "collapsed": false
   },
   "outputs": [
    {
     "data": {
      "text/plain": [
       "33-element Array{Float64,1}:\n",
       " 0.0\n",
       " 0.0625\n",
       " 0.125\n",
       " 0.1875\n",
       " 0.25\n",
       " 0.3125\n",
       " 0.375\n",
       " 0.4375\n",
       " 0.5\n",
       " 0.5625\n",
       " 0.625\n",
       " 0.6875\n",
       " 0.75\n",
       " ⋮\n",
       " 1.3125\n",
       " 1.375\n",
       " 1.4375\n",
       " 1.5\n",
       " 1.5625\n",
       " 1.625\n",
       " 1.6875\n",
       " 1.75\n",
       " 1.8125\n",
       " 1.875\n",
       " 1.9375\n",
       " 2.0"
      ]
     },
     "execution_count": 16,
     "metadata": {
     },
     "output_type": "execute_result"
    }
   ],
   "source": [
    "EJE_X = Memoria[1]"
   ]
  },
  {
   "cell_type": "code",
   "execution_count": 17,
   "metadata": {
    "collapsed": false
   },
   "outputs": [
    {
     "data": {
      "text/plain": [
       "33-element Array{Float64,1}:\n",
       "    1.0\n",
       "    1.3125\n",
       "    1.69921875\n",
       "    2.1787109375\n",
       "    2.774169921875\n",
       "    3.51458740234375\n",
       "    4.4362030029296875\n",
       "    5.584316253662109\n",
       "    7.015551567077637\n",
       "    8.800689458847046\n",
       "   11.028205573558807\n",
       "   13.80869446694851\n",
       "   17.280399333685637\n",
       "    ⋮\n",
       "  128.88963298265367\n",
       "  161.09250997831708\n",
       "  201.34219997289637\n",
       "  251.65040621612047\n",
       "  314.5317577701506\n",
       "  393.1295409626882\n",
       "  491.3728637033603\n",
       "  614.1731108792003\n",
       "  767.6695135990003\n",
       "  959.5361107487504\n",
       " 1199.365450935938\n",
       " 1499.1482199199227"
      ]
     },
     "execution_count": 17,
     "metadata": {
     },
     "output_type": "execute_result"
    }
   ],
   "source": [
    "EJE_Y = Memoria[2]"
   ]
  },
  {
   "cell_type": "code",
   "execution_count": 18,
   "metadata": {
    "collapsed": false
   },
   "outputs": [
    {
     "data": {
      "image/png": "[encoded data removed]",
      "text/plain": [
       "Figure(PyObject <Figure size 640x480 with 1 Axes>)"
      ]
     },
     "execution_count": 18,
     "metadata": {
     },
     "output_type": "execute_result"
    }
   ],
   "source": [
    "plot(Datos_en_X, Datos_en_Y, \"b*\", label=\"Solución por Trapezoide\")\n",
    "plot(EJE_X, EJE_Y, \"g*\", label=\"Solución por Euler\")\n",
    "xlabel(\"t\")\n",
    "ylabel(\"y(t)\")\n",
    "grid(\"on\")\n",
    "legend();"
   ]
  },
  {
   "cell_type": "markdown",
   "metadata": {
    "collapsed": false
   },
   "source": [
    "## Comparación gráfica entre la solución exacta y solución por Método de Trapezoide"
   ]
  },
  {
   "cell_type": "code",
   "execution_count": 19,
   "metadata": {
    "collapsed": false
   },
   "outputs": [
   ],
   "source": [
    "X_EXACTA = 1:2/32:2\n",
    "Y_EXACTA =[(19/16)*exp(4t) + (t/4) - (3/16) for t in X_EXACTA];"
   ]
  },
  {
   "cell_type": "code",
   "execution_count": 20,
   "metadata": {
    "collapsed": false
   },
   "outputs": [
    {
     "data": {
      "image/png": "[encoded data removed]",
      "text/plain": [
       "Figure(PyObject <Figure size 640x480 with 1 Axes>)"
      ]
     },
     "execution_count": 20,
     "metadata": {
     },
     "output_type": "execute_result"
    }
   ],
   "source": [
    "plot(X_EXACTA, Y_EXACTA, \"r*\", label = \"Solución exacta\")\n",
    "plot(Datos_en_X, Datos_en_Y, \"b*\", label=\"Solución por Trapezoide\")\n",
    "xlabel(\"t\")\n",
    "ylabel(\"y(t)\")\n",
    "grid(\"on\")\n",
    "legend();"
   ]
  },
  {
   "cell_type": "markdown",
   "metadata": {
    "collapsed": false
   },
   "source": [
    "## Análisis del error."
   ]
  },
  {
   "cell_type": "markdown",
   "metadata": {
    "collapsed": false
   },
   "source": [
    "### Comparación con error en el Método de Euler."
   ]
  },
  {
   "cell_type": "markdown",
   "metadata": {
    "collapsed": false
   },
   "source": [
    "Voy a analizar el error **en el punto $2$** para diferentes valores de $h$. Tomo $error = |y(2) - y_n(2)|$, donde $y_n$ es la aproximación obtenida por el método de Trapezoide"
   ]
  },
  {
   "cell_type": "markdown",
   "metadata": {
    "collapsed": false
   },
   "source": [
    "Necesito una nueva función `Trapezoide2` (modificación de `Trapezoide`) que solo me devuelve la $y$ en el punto $2$"
   ]
  },
  {
   "cell_type": "code",
   "execution_count": 21,
   "metadata": {
    "collapsed": false
   },
   "outputs": [
    {
     "data": {
      "text/plain": [
       "Trapezoide2 (generic function with 1 method)"
      ]
     },
     "execution_count": 21,
     "metadata": {
     },
     "output_type": "execute_result"
    }
   ],
   "source": [
    "function Trapezoide2(f, t0, tf, y0, N)\n",
    "    ts = Float64[]\n",
    "    ys = Float64[]\n",
    "    \n",
    "    h = (tf-t0)/N\n",
    "    H1 = 1/(1-2h)\n",
    "    H2 = h/(2-4h)\n",
    "    \n",
    "    t_actual = t0\n",
    "    y_actual = y0\n",
    "    push!(ts, t_actual)\n",
    "    push!(ys, y_actual)\n",
    "    \n",
    "    \n",
    "    for j in 1:N\n",
    "        t_nueva = t_actual + h\n",
    "        y_nueva = H1*y_actual + H2*(2 + 4*y_actual - t_actual - t_nueva)\n",
    "        \n",
    "        push!(ts, t_nueva)\n",
    "        push!(ys, y_nueva)\n",
    "        \n",
    "        t_actual = t_nueva\n",
    "        y_actual = y_nueva        \n",
    "    end\n",
    "    m = length(ys)\n",
    "    return ys[m]\n",
    "end"
   ]
  },
  {
   "cell_type": "markdown",
   "metadata": {
    "collapsed": false
   },
   "source": [
    "Voy a crear una función `Euler2` que me devuelva el error en el punto $2$"
   ]
  },
  {
   "cell_type": "code",
   "execution_count": 22,
   "metadata": {
    "collapsed": false
   },
   "outputs": [
    {
     "data": {
      "text/plain": [
       "Euler2 (generic function with 1 method)"
      ]
     },
     "execution_count": 22,
     "metadata": {
     },
     "output_type": "execute_result"
    }
   ],
   "source": [
    "function Euler2(f, t0, y0, N)\n",
    "    h = 2/N\n",
    "    ts = Float64[]\n",
    "    ys = Float64[]\n",
    "    t_actual = t0\n",
    "    y_actual = y0\n",
    "    push!(ts, t_actual)\n",
    "    push!(ys, y_actual)\n",
    "    for j in 1:N\n",
    "        t_nueva = t_actual + h\n",
    "        y_nueva = y_actual + f(t_actual, y_actual)*h\n",
    "        push!(ts, t_nueva)\n",
    "        push!(ys, y_nueva)\n",
    "        t_actual = t_nueva\n",
    "        y_actual = y_nueva\n",
    "    end\n",
    "    m = length(ys)\n",
    "    ys[m]\n",
    "end"
   ]
  },
  {
   "cell_type": "code",
   "execution_count": 23,
   "metadata": {
    "collapsed": false
   },
   "outputs": [
    {
     "data": {
      "text/plain": [
       "sol_Exacta (generic function with 1 method)"
      ]
     },
     "execution_count": 23,
     "metadata": {
     },
     "output_type": "execute_result"
    }
   ],
   "source": [
    "function sol_Exacta(N)\n",
    "    us = range(0, stop=2, length=N+1)\n",
    "    vs = [(19/16)*exp(4t) + (t/4) - (3/16) for t in us]\n",
    "    \n",
    "    n = length(vs)\n",
    "    return vs[n]\n",
    "end"
   ]
  },
  {
   "cell_type": "markdown",
   "metadata": {
    "collapsed": false
   },
   "source": [
    "Voy a graficar $h$ contra $errores$ con $h:=\\frac{2}{NS}$"
   ]
  },
  {
   "cell_type": "code",
   "execution_count": 22,
   "metadata": {
    "collapsed": false
   },
   "outputs": [
    {
     "data": {
      "text/plain": [
       "10-element Array{Float64,1}:\n",
       " 1309.4244474275242\n",
       "  755.4481818507575\n",
       "  407.98840043286555\n",
       "  212.33033262333947\n",
       "  108.3556716616813\n",
       "   54.739476545049\n",
       "   27.51194663493743\n",
       "   13.791753155815513\n",
       "    6.9048501943552765\n",
       "    3.45467209523531"
      ]
     },
     "execution_count": 22,
     "metadata": {
     },
     "output_type": "execute_result"
    }
   ],
   "source": [
    "NS = [2^x for x in 6:15]\n",
    "h = [2/x for x in NS]\n",
    "errores = [abs(Trapezoide2(f, 0, 2, 1, X) - sol_Exacta(X)) for X in NS]\n",
    "erroresEuler = [abs(Euler2(f, 0, 1, X) - sol_Exacta(X)) for X in NS]"
   ]
  },
  {
   "cell_type": "code",
   "execution_count": 26,
   "metadata": {
    "collapsed": false
   },
   "outputs": [
    {
     "data": {
      "image/png": "[encoded data removed]",
      "text/plain": [
       "Figure(PyObject <Figure size 640x480 with 1 Axes>)"
      ]
     },
     "execution_count": 26,
     "metadata": {
     },
     "output_type": "execute_result"
    }
   ],
   "source": [
    "plot(h, errores, \"*\")\n",
    "plot(h, erroresEuler, \"g-\")\n",
    "xlabel(\"h\")\n",
    "ylabel(\"error\")\n",
    "#xscale(\"log\")\n",
    "#yscale(\"log\")\n",
    "grid(\"on\")"
   ]
  },
  {
   "cell_type": "code",
   "execution_count": 0,
   "metadata": {
    "collapsed": false
   },
   "outputs": [
   ],
   "source": [
   ]
  }
 ],
 "metadata": {
  "kernelspec": {
   "display_name": "Julia 1.5",
   "env": {
    "JULIA_DEPOT_PATH": "/home/user/.julia/:/ext/julia/depot/",
    "JULIA_PROJECT": "/home/user/.julia/environment/v1.5"
   },
   "language": "julia",
   "metadata": {
    "cocalc": {
     "description": "The Julia Programming Language",
     "priority": 10,
     "url": "https://julialang.org/"
    }
   },
   "name": "julia-1.5"
  },
  "language_info": {
   "file_extension": ".jl",
   "mimetype": "application/julia",
   "name": "julia",
   "version": "1.5.2"
  }
 },
 "nbformat": 4,
 "nbformat_minor": 4
}