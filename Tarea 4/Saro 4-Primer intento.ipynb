{
 "cells": [
  {
   "cell_type": "markdown",
   "metadata": {
    "collapsed": false
   },
   "source": [
    "[Ecuacion de calor en Python](https://levelup.gitconnected.com/solving-2d-heat-equation-numerically-using-python-3334004aa01a)\n",
    "\n",
    "[Diferencias de sintaxis con julia](https://docs.julialang.org/en/v1/manual/noteworthy-differences/)\n",
    "\n",
    "[Sintaxis en Python](https://docs.python.org/3/tutorial/introduction.html)"
   ]
  },
  {
   "cell_type": "code",
   "execution_count": 1,
   "metadata": {
    "collapsed": false
   },
   "outputs": [
   ],
   "source": [
    "using PyPlot"
   ]
  },
  {
   "cell_type": "code",
   "execution_count": 2,
   "metadata": {
    "collapsed": false
   },
   "outputs": [
   ],
   "source": [
    "using PyCall"
   ]
  },
  {
   "cell_type": "code",
   "execution_count": 3,
   "metadata": {
    "collapsed": false
   },
   "outputs": [
   ],
   "source": [
    "longitud_placa = 50\n",
    "tiempo_iter_max = 1000\n",
    "\n",
    "α = 2\n",
    "Δx = 1\n",
    "\n",
    "Δt = (Δx^2)/(4α)\n",
    "γ = (α*Δt)/(Δx^2);"
   ]
  },
  {
   "cell_type": "code",
   "execution_count": 4,
   "metadata": {
    "collapsed": false
   },
   "outputs": [
   ],
   "source": [
    "us = Array{Float64, 3}(undef, longitud_placa, longitud_placa, tiempo_iter_max);"
   ]
  },
  {
   "cell_type": "code",
   "execution_count": 5,
   "metadata": {
    "collapsed": false
   },
   "outputs": [
   ],
   "source": [
    "u_inicial = 0\n",
    "\n",
    "u_top = 100\n",
    "u_izq = 0\n",
    "u_abajo = 0\n",
    "u_der = 0;"
   ]
  },
  {
   "cell_type": "code",
   "execution_count": 6,
   "metadata": {
    "collapsed": false
   },
   "outputs": [
   ],
   "source": [
    "fill!(us, u_inicial);"
   ]
  },
  {
   "cell_type": "code",
   "execution_count": 0,
   "metadata": {
    "collapsed": false
   },
   "outputs": [
   ],
   "source": [
    "us[:, 1:longitud_placa, :] .= u_top\n",
    "us[:, :, 1:end] .= u_izq\n",
    "#us[:, 1:end, 1:end] .= u_abajo\n",
    "#us[:, :, longitud_placa] .= u_der;"
   ]
  },
  {
   "cell_type": "code",
   "execution_count": 0,
   "metadata": {
    "collapsed": false
   },
   "outputs": [
   ],
   "source": [
    "us"
   ]
  },
  {
   "cell_type": "code",
   "execution_count": 0,
   "metadata": {
    "collapsed": false
   },
   "outputs": [
   ],
   "source": [
    "function calculo(u)\n",
    "    for κ in 1:Δt:(tiempo_iter_max-2)\n",
    "        for i in 2:Δx:longitud_placa-2\n",
    "            for j in 2:Δx:longitud_placa-2\n",
    "                u[κ + 1, i, j] = γ*(u[κ, i + 1, j] .+ u[κ, i - 1, j] .+ u[κ, i, j + 1] .+ u[κ, i, j - 1] .- u[κ, i, j]) .+ u[κ, i, j]\n",
    "            end\n",
    "        end\n",
    "    end\n",
    "    return u\n",
    "end"
   ]
  },
  {
   "cell_type": "code",
   "execution_count": 0,
   "metadata": {
    "collapsed": false
   },
   "outputs": [
   ],
   "source": [
    "function mapadeCalor(u_κ, κ)\n",
    "    clf()\n",
    "    xlabel(\"x\")\n",
    "    ylabel(\"y\")\n",
    "    \n",
    "    colormesh(u_κ, cmap=cm.jet, vmin=0, vmax=100)\n",
    "    colorbar()\n",
    "end"
   ]
  },
  {
   "cell_type": "code",
   "execution_count": 0,
   "metadata": {
    "collapsed": false
   },
   "outputs": [
   ],
   "source": [
    "u = calculo(us)"
   ]
  },
  {
   "cell_type": "code",
   "execution_count": 0,
   "metadata": {
    "collapsed": false
   },
   "outputs": [
   ],
   "source": [
    "Δt"
   ]
  },
  {
   "cell_type": "code",
   "execution_count": 0,
   "metadata": {
    "collapsed": false
   },
   "outputs": [
   ],
   "source": [
   ]
  }
 ],
 "metadata": {
  "kernelspec": {
   "display_name": "Julia 1.5",
   "env": {
    "JULIA_DEPOT_PATH": "/home/user/.julia/:/ext/julia/depot/",
    "JULIA_PROJECT": "/home/user/.julia/environment/v1.5"
   },
   "language": "julia",
   "metadata": {
    "cocalc": {
     "description": "The Julia Programming Language",
     "priority": 10,
     "url": "https://julialang.org/"
    }
   },
   "name": "julia-1.5",
   "resource_dir": "/ext/jupyter/kernels/julia-1.5"
  },
  "language_info": {
   "file_extension": ".jl",
   "mimetype": "application/julia",
   "name": "julia",
   "version": "1.5.2"
  }
 },
 "nbformat": 4,
 "nbformat_minor": 4
}